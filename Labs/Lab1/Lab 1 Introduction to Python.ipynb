{
 "cells": [
  {
   "cell_type": "markdown",
   "metadata": {},
   "source": [
    "# Introduction to Python\n",
    "Python is a programming language which we will use to solve many of the homework problems,\n",
    "especially density functional theory calculations using VASP (homeworks 5, homework 6, and\n",
    "probably your class project). It is therefore important that you familiarize yourself with\n",
    "using it. The numerical and plotting features in python are mostly similar to **MATLAB**,\n",
    "with a few subtle differences. I would recommend that you try to solve the first problem\n",
    "in homework 2 using python. A few examples are below, adapted (a fancy way of saying\n",
    "pretty much copied) from John Kitchin's example files. We won't cover all of these, but\n",
    "you can use them for reference. To execute code in a jupyter notebook, use Ctrl-enter or Shift-enter.\n",
    "\n",
    "## Simple calculations\n",
    "A good overview of basic python operators can be found at http://www.tutorialspoint.com/python/python_basic_operators.htm\n",
    "\n",
    "Here are some simple examples"
   ]
  },
  {
   "cell_type": "code",
   "execution_count": 1,
   "metadata": {},
   "outputs": [
    {
     "name": "stdout",
     "output_type": "stream",
     "text": [
      "5\n",
      "-2\n",
      "14\n",
      "0.6666666666666666\n",
      "0.0\n"
     ]
    }
   ],
   "source": [
    "print(2+3)\n",
    "print(4-6)\n",
    "print(2*7)\n",
    "print(4.0 / 6.0)\n",
    "print (4.0 // 6.0) # Integer division"
   ]
  },
  {
   "cell_type": "code",
   "execution_count": 2,
   "metadata": {},
   "outputs": [
    {
     "name": "stdout",
     "output_type": "stream",
     "text": [
      "6\n",
      "6.0\n"
     ]
    }
   ],
   "source": [
    "print (2*3)\n",
    "print (2*3.0)"
   ]
  },
  {
   "cell_type": "markdown",
   "metadata": {},
   "source": [
    "We can also do powers with **"
   ]
  },
  {
   "cell_type": "code",
   "execution_count": 3,
   "metadata": {},
   "outputs": [
    {
     "name": "stdout",
     "output_type": "stream",
     "text": [
      "8\n",
      "1.4142135623730951\n",
      "6\n"
     ]
    }
   ],
   "source": [
    "print (2**3)\n",
    "print (2**0.5)\n",
    "print (2^4) # Binary XOR operator!"
   ]
  },
  {
   "cell_type": "markdown",
   "metadata": {},
   "source": [
    "The modulus operator (%) divides the left hand operand by the right hand operand and returns the remainder."
   ]
  },
  {
   "cell_type": "code",
   "execution_count": 4,
   "metadata": {},
   "outputs": [
    {
     "name": "stdout",
     "output_type": "stream",
     "text": [
      "1\n",
      "1.0\n"
     ]
    }
   ],
   "source": [
    "print (5 % 4)\n",
    "print (5. % 4.)"
   ]
  },
  {
   "cell_type": "markdown",
   "metadata": {},
   "source": [
    "## Formatted printing\n",
    "http://docs.python.org/library/stdtypes.html#string-formatting-operations\n",
    "\n",
    "We will usually want to print more than a number, e.g. some descriptive text and the number. We also will want to format numbers so we do not see 9 decimal places all the time. We use string formatting for that. Here are some typical examples.\n",
    "\n",
    "In a string we can specify where to put numbers with positional arguments like {0}. That says take the first argument (python starts counting at zero) and put it in place of {0}."
   ]
  },
  {
   "cell_type": "code",
   "execution_count": 5,
   "metadata": {},
   "outputs": [
    {
     "name": "stdout",
     "output_type": "stream",
     "text": [
      "The answer is 6.5\n"
     ]
    }
   ],
   "source": [
    "a = 4.5 + 2\n",
    "print ('The answer is {0}'.format(a))"
   ]
  },
  {
   "cell_type": "markdown",
   "metadata": {},
   "source": [
    "We can have more than one number to format like this."
   ]
  },
  {
   "cell_type": "code",
   "execution_count": 6,
   "metadata": {},
   "outputs": [
    {
     "name": "stdout",
     "output_type": "stream",
     "text": [
      "a = 125 and b = 23\n"
     ]
    }
   ],
   "source": [
    "a = 5**3\n",
    "b = 23\n",
    "print ('a = {1} and b = {0}'.format(b,a))"
   ]
  },
  {
   "cell_type": "markdown",
   "metadata": {},
   "source": [
    "Alternatively, we can use named arguments to specify the values. It is your choice which one to do. Named arguments require more typing, but are easier to understand."
   ]
  },
  {
   "cell_type": "code",
   "execution_count": 7,
   "metadata": {},
   "outputs": [
    {
     "name": "stdout",
     "output_type": "stream",
     "text": [
      "a = 125 and b = 23\n"
     ]
    }
   ],
   "source": [
    "a = 5**3\n",
    "b = 23\n",
    "print ('a = {ans0} and b = {ans1}'.format(ans0=a,\n",
    "                                         ans1=b))"
   ]
  },
  {
   "cell_type": "markdown",
   "metadata": {},
   "source": [
    "To do formatting, we need additional syntax. We use {i:format} to specify how the value should be formatted. Here we show how to specify only three decimal places on a results. See [this link](http://docs.python.org/library/stdtypes.html#string-formatting-operations) for a lot more details of formatting strings."
   ]
  },
  {
   "cell_type": "code",
   "execution_count": 18,
   "metadata": {},
   "outputs": [
    {
     "name": "stdout",
     "output_type": "stream",
     "text": [
      "a = 0.6666666666666666\n",
      "a = 0.667\n"
     ]
    }
   ],
   "source": [
    "a = 2./3.\n",
    "print ('a = {0}'.format(a))\n",
    "print ('a = {0:1.3f}'.format(a))"
   ]
  },
  {
   "cell_type": "markdown",
   "metadata": {},
   "source": [
    "## Data types"
   ]
  },
  {
   "cell_type": "markdown",
   "metadata": {},
   "source": [
    "Numeric types http://docs.python.org/library/stdtypes.html#numeric-types-int-float-long-complex\n",
    "\n",
    "Strings http://docs.python.org/library/stdtypes.html#string-methods"
   ]
  },
  {
   "cell_type": "markdown",
   "metadata": {},
   "source": [
    "### lists/tuples"
   ]
  },
  {
   "cell_type": "markdown",
   "metadata": {},
   "source": [
    "Lists and tuples are similar in that they are both sets of data. A list is delimited by [] (square brackets) and a tuple is delimited by () (parentheses). The difference between them is a list can be changed after it is created (it is mutable), but a tuple cannot (it is immutable)."
   ]
  },
  {
   "cell_type": "code",
   "execution_count": 19,
   "metadata": {},
   "outputs": [
    {
     "name": "stdout",
     "output_type": "stream",
     "text": [
      "[1, 2, 3, 4]\n",
      "4\n",
      "1\n",
      "4\n",
      "4\n",
      "[1, 2, 3, 4, 1, 2, 3, 4]\n"
     ]
    }
   ],
   "source": [
    "# short list example\n",
    "a = [1, 2, 3, 4] # a list\n",
    "print (a)\n",
    "print (len(a))\n",
    "print (a[0]) # first element\n",
    "print (a[-1]) # last element\n",
    "print (a[3])  # also last element\n",
    "print (2*a)   # surprise!!!"
   ]
  },
  {
   "cell_type": "markdown",
   "metadata": {},
   "source": [
    "We can create a list with the **range** command:"
   ]
  },
  {
   "cell_type": "code",
   "execution_count": 32,
   "metadata": {},
   "outputs": [
    {
     "name": "stdout",
     "output_type": "stream",
     "text": [
      "range(0, 4)\n",
      "range(4, 10)\n"
     ]
    }
   ],
   "source": [
    "a = range(4)\n",
    "print (a)\n",
    "\n",
    "b = range(4,10)\n",
    "print (b)\n",
    "\n",
    "#print (a + b)  # surprise again!!!"
   ]
  },
  {
   "cell_type": "markdown",
   "metadata": {},
   "source": [
    "Note that algebraic/math operations are not defined for lists the way they are for Matlab. We have to use **numpy.array** for that, which we will see later."
   ]
  },
  {
   "cell_type": "code",
   "execution_count": 33,
   "metadata": {},
   "outputs": [
    {
     "name": "stdout",
     "output_type": "stream",
     "text": [
      "[1, 2, 3, 4]\n",
      "[1, 56, 3, 4]\n"
     ]
    }
   ],
   "source": [
    "# short list example\n",
    "a = [1, 2, 3, 4] # a list\n",
    "print (a)\n",
    "a[1] = 56 # change the value of 2nd element\n",
    "print (a)"
   ]
  },
  {
   "cell_type": "markdown",
   "metadata": {},
   "source": [
    "Tuples are like lists except they cannot be modified after creation."
   ]
  },
  {
   "cell_type": "code",
   "execution_count": 34,
   "metadata": {},
   "outputs": [
    {
     "name": "stdout",
     "output_type": "stream",
     "text": [
      "4\n",
      "1\n",
      "4\n"
     ]
    }
   ],
   "source": [
    "a = (1,2,3,4)\n",
    "print (len(a))\n",
    "print (a[0])\n",
    "print (a[-1])\n",
    "#a[1] = 56 #this is not allowed!"
   ]
  },
  {
   "cell_type": "markdown",
   "metadata": {},
   "source": [
    "## Conditional statements"
   ]
  },
  {
   "cell_type": "markdown",
   "metadata": {},
   "source": [
    "conditional operators http://docs.python.org/library/stdtypes.html#comparisons\n",
    "\n",
    "Python has the standard conditional operators for testing if a quantity is equal to (==), less than (<), greater than (>), lessthan or equal to (<=) greater than or equal to (>=) and not equal (!=). These generally work on numbers and strings."
   ]
  },
  {
   "cell_type": "code",
   "execution_count": 35,
   "metadata": {},
   "outputs": [
    {
     "name": "stdout",
     "output_type": "stream",
     "text": [
      "False\n",
      "True\n",
      "True\n",
      "False\n",
      "True\n"
     ]
    }
   ],
   "source": [
    "print (4 == 2.)\n",
    "print ('a' != 'A')\n",
    "print (4 > 3)\n",
    "print (4 <= 3)\n",
    "print ('a' < 'b') # hmmm...."
   ]
  },
  {
   "cell_type": "markdown",
   "metadata": {},
   "source": [
    "We use these conditional operators to determine whether conditional statements should be run or not."
   ]
  },
  {
   "cell_type": "code",
   "execution_count": 36,
   "metadata": {},
   "outputs": [
    {
     "name": "stdout",
     "output_type": "stream",
     "text": [
      "a is less than b\n"
     ]
    }
   ],
   "source": [
    "a = 4\n",
    "b = 5\n",
    "\n",
    "if a < b:\n",
    "    print ('a is less than b')"
   ]
  },
  {
   "cell_type": "markdown",
   "metadata": {},
   "source": [
    "In this next example we use an **else** statement. Note the logic is not complete, if a=b in this case, we would get the statement \"a is less than b\" printed."
   ]
  },
  {
   "cell_type": "code",
   "execution_count": 37,
   "metadata": {},
   "outputs": [
    {
     "name": "stdout",
     "output_type": "stream",
     "text": [
      "a is greater than b\n"
     ]
    }
   ],
   "source": [
    "a = 14\n",
    "b = 5\n",
    "\n",
    "if a > b:\n",
    "    print ('a is greater than b')\n",
    "else:\n",
    "    print ('a is less than b')"
   ]
  },
  {
   "cell_type": "markdown",
   "metadata": {},
   "source": [
    "Here is a more complete logic that uses **elif** to add an additional logic clause."
   ]
  },
  {
   "cell_type": "code",
   "execution_count": 38,
   "metadata": {},
   "outputs": [
    {
     "name": "stdout",
     "output_type": "stream",
     "text": [
      "a is equal to b\n"
     ]
    }
   ],
   "source": [
    "a = 4\n",
    "b = 4\n",
    "if a > b:\n",
    "    print ('a is greater than b')\n",
    "elif a == b:\n",
    "    print ('a is equal to b')\n",
    "else:\n",
    "    print ('a is less than b')"
   ]
  },
  {
   "cell_type": "markdown",
   "metadata": {},
   "source": [
    "Finally, to illustrate that the first conditional statement that evaluates to True is evaluated, consider this example:"
   ]
  },
  {
   "cell_type": "code",
   "execution_count": 39,
   "metadata": {},
   "outputs": [
    {
     "name": "stdout",
     "output_type": "stream",
     "text": [
      "a is greater than or equal to b\n"
     ]
    }
   ],
   "source": [
    "a = 4\n",
    "b = 4\n",
    "if a > b:\n",
    "    print ('a is greater than b')\n",
    "elif a >= b:\n",
    "    print ('a is greater than or equal to b')\n",
    "elif a == b:\n",
    "    print ('a is equal to b')\n",
    "elif a <= b:\n",
    "    print ('a is less than or equal to b')\n",
    "else:\n",
    "    print ('a is less than b')"
   ]
  },
  {
   "cell_type": "markdown",
   "metadata": {},
   "source": [
    "## Loops"
   ]
  },
  {
   "cell_type": "markdown",
   "metadata": {},
   "source": [
    "http://docs.python.org/tutorial/datastructures.html#looping-techniques\n",
    "for\n",
    "while/break/continue\n",
    "enumerate, zip"
   ]
  },
  {
   "cell_type": "code",
   "execution_count": 40,
   "metadata": {},
   "outputs": [
    {
     "name": "stdout",
     "output_type": "stream",
     "text": [
      "0\n",
      "1\n",
      "2\n",
      "3\n"
     ]
    }
   ],
   "source": [
    "for i in [0,1,2,3]:\n",
    "    print (i)"
   ]
  },
  {
   "cell_type": "code",
   "execution_count": 41,
   "metadata": {},
   "outputs": [
    {
     "name": "stdout",
     "output_type": "stream",
     "text": [
      "0\n",
      "1\n",
      "2\n",
      "3\n"
     ]
    }
   ],
   "source": [
    "for i in range(4):\n",
    "    print (i)"
   ]
  },
  {
   "cell_type": "markdown",
   "metadata": {},
   "source": [
    "## functions"
   ]
  },
  {
   "cell_type": "markdown",
   "metadata": {},
   "source": [
    "http://docs.python.org/tutorial/controlflow.html#defining-functions\n",
    "\n",
    "We can define functions with the **def** statement, and specify what they **return**"
   ]
  },
  {
   "cell_type": "code",
   "execution_count": 42,
   "metadata": {},
   "outputs": [
    {
     "name": "stdout",
     "output_type": "stream",
     "text": [
      "9\n",
      "9\n"
     ]
    }
   ],
   "source": [
    "def myfunc(x):\n",
    "    return (x*x)\n",
    "\n",
    "print (myfunc(3))\n",
    "print (myfunc(x=3))"
   ]
  },
  {
   "cell_type": "markdown",
   "metadata": {},
   "source": [
    "## Classes and objects                                             \n",
    "http://docs.python.org/tutorial/classes.html"
   ]
  },
  {
   "cell_type": "markdown",
   "metadata": {},
   "source": [
    "## Modules\n",
    "http://docs.python.org/tutorial/modules.html"
   ]
  },
  {
   "cell_type": "markdown",
   "metadata": {},
   "source": [
    "The default Python environment has minimal functionality. We can **import** additional functionality from modules. The full standard library is documented at http://docs.python.org/library/. It is not likely you will use everything there, but it is helpful to be familiar with what is available so you do not reinvent solutions.\n",
    "\n",
    "We import modules, and then we can access functions inthe module with the **.** operator."
   ]
  },
  {
   "cell_type": "code",
   "execution_count": 45,
   "metadata": {},
   "outputs": [
    {
     "name": "stdout",
     "output_type": "stream",
     "text": [
      "fda.tar.Z\n",
      "fda\n",
      ".ipynb_checkpoints\n",
      "Lab 1 Introduction to Python.ipynb\n"
     ]
    }
   ],
   "source": [
    "# list contents of current directory\n",
    "import os\n",
    "for item in os.listdir('.'):\n",
    "    print (item)"
   ]
  },
  {
   "cell_type": "markdown",
   "metadata": {},
   "source": [
    "You can import exactly what you need also with the **from/import** syntax"
   ]
  },
  {
   "cell_type": "code",
   "execution_count": 46,
   "metadata": {},
   "outputs": [
    {
     "name": "stdout",
     "output_type": "stream",
     "text": [
      "fda.tar.Z\n",
      "fda\n",
      ".ipynb_checkpoints\n",
      "Lab 1 Introduction to Python.ipynb\n"
     ]
    }
   ],
   "source": [
    "# list contents of current directory\n",
    "from os import listdir\n",
    "for item in listdir('.'):\n",
    "    print (item)"
   ]
  },
  {
   "cell_type": "markdown",
   "metadata": {},
   "source": [
    "Finally, you can change the name of a module. This may be done for readability, or to shorten the amount of typing."
   ]
  },
  {
   "cell_type": "code",
   "execution_count": 47,
   "metadata": {},
   "outputs": [
    {
     "name": "stdout",
     "output_type": "stream",
     "text": [
      "fda.tar.Z\n",
      "fda\n",
      ".ipynb_checkpoints\n",
      "Lab 1 Introduction to Python.ipynb\n"
     ]
    }
   ],
   "source": [
    "# list contents of current directory\n",
    "import os as operating_system\n",
    "for item in operating_system.listdir('.'):\n",
    "    print (item)"
   ]
  },
  {
   "cell_type": "markdown",
   "metadata": {},
   "source": [
    "### Some common standard modules\n",
    "http://docs.python.org/tutorial/stdlib.html\n",
    "os, sys, glob,  re"
   ]
  },
  {
   "cell_type": "markdown",
   "metadata": {},
   "source": [
    "## file I/O\n",
    "reading, writing files\n",
    "http://docs.python.org/library/stdtypes.html#file-objects"
   ]
  },
  {
   "cell_type": "markdown",
   "metadata": {},
   "source": [
    "## Error handling \n",
    "http://docs.python.org/tutorial/errors.html"
   ]
  },
  {
   "cell_type": "markdown",
   "metadata": {},
   "source": [
    "Errors happen, and when they do they usually kill your script. Sometimes that is not desirable, and it is nice to catch errors, handle them, and keep on going. When errors occur in python, an Exception is raised. We can use **try/except** code blocks to try some code, and then respond to any exceptions that occur."
   ]
  },
  {
   "cell_type": "code",
   "execution_count": 66,
   "metadata": {},
   "outputs": [
    {
     "name": "stdout",
     "output_type": "stream",
     "text": [
      "0.5\n",
      "an error was found:\n",
      "division by zero\n",
      "1.0\n"
     ]
    }
   ],
   "source": [
    "for i in [2,0,1]:\n",
    "    try:\n",
    "        print (1/i)\n",
    "    except ZeroDivisionError as e:\n",
    "        print ('an error was found:')\n",
    "        print (e)"
   ]
  },
  {
   "cell_type": "markdown",
   "metadata": {},
   "source": [
    "## Numerical Python (Numpy)"
   ]
  },
  {
   "cell_type": "markdown",
   "metadata": {},
   "source": [
    "### The basics\n",
    "http://docs.scipy.org/doc/numpy/reference/"
   ]
  },
  {
   "cell_type": "code",
   "execution_count": 67,
   "metadata": {},
   "outputs": [
    {
     "name": "stdout",
     "output_type": "stream",
     "text": [
      "[ 1  4  9 64]\n",
      "78\n"
     ]
    }
   ],
   "source": [
    "import numpy as np\n",
    "a = np.array([1,2,3,8])\n",
    "\n",
    "print (a*a)          # element-wise operation\n",
    "print (np.dot(a,a))  # linear-algebra dot product"
   ]
  },
  {
   "cell_type": "markdown",
   "metadata": {},
   "source": [
    "Numpy defines lots of functions that operate element-wise on arrays."
   ]
  },
  {
   "cell_type": "code",
   "execution_count": 68,
   "metadata": {},
   "outputs": [
    {
     "name": "stdout",
     "output_type": "stream",
     "text": [
      "[ 1  4  9 16]\n",
      "[ 0.84147098  0.90929743  0.14112001 -0.7568025 ]\n",
      "[ 2.71828183  7.3890561  20.08553692 54.59815003]\n",
      "[1.         1.41421356 1.73205081 2.        ]\n"
     ]
    }
   ],
   "source": [
    "import numpy as np\n",
    "a = np.array([1, 2, 3, 4])\n",
    "print (a**2)\n",
    "print (np.sin(a))\n",
    "print (np.exp(a))\n",
    "print (np.sqrt(a))"
   ]
  },
  {
   "cell_type": "code",
   "execution_count": 69,
   "metadata": {},
   "outputs": [
    {
     "name": "stdout",
     "output_type": "stream",
     "text": [
      "1 4\n",
      "10\n",
      "2.5\n",
      "1.118033988749895\n"
     ]
    }
   ],
   "source": [
    "import numpy as np\n",
    "a = np.array([1, 2, 3, 4])\n",
    "print (a.min(), a.max())\n",
    "print (a.sum())  # sum of elements\n",
    "print (a.mean()) # average\n",
    "print (a.std())  # standard deviation"
   ]
  },
  {
   "cell_type": "markdown",
   "metadata": {},
   "source": [
    "Below are some recipes for doing linear algebra and polynomials."
   ]
  },
  {
   "cell_type": "markdown",
   "metadata": {},
   "source": [
    "### Linear algebra\n",
    "**numpy.linalg** provides a lot of the linear algebra functionality we need. See http://docs.scipy.org/doc/numpy/reference/routines.linalg.html for details of all the things that are possible. For example, given these linear equations:\n",
    "\n",
    "$x + y = 3$, \n",
    "$x - y = 1$\n",
    "\n",
    "we can represent these equations in matrix form $A x = b$ and solve them."
   ]
  },
  {
   "cell_type": "code",
   "execution_count": 70,
   "metadata": {},
   "outputs": [
    {
     "name": "stdout",
     "output_type": "stream",
     "text": [
      "[2. 1.]\n"
     ]
    }
   ],
   "source": [
    "import numpy as np\n",
    "import numpy.linalg as la\n",
    "\n",
    "A = np.array([[1, 1],\n",
    "              [1, -1]])\n",
    "\n",
    "b = np.array([3, 1])\n",
    "\n",
    "print (la.solve(A, b))"
   ]
  },
  {
   "cell_type": "markdown",
   "metadata": {},
   "source": [
    "You might be familiar with the following solution:\n",
    "\n",
    "$x = A^{-1} b$\n",
    "\n",
    "We can also compute that:"
   ]
  },
  {
   "cell_type": "code",
   "execution_count": 77,
   "metadata": {},
   "outputs": [
    {
     "name": "stdout",
     "output_type": "stream",
     "text": [
      "[2. 1.]\n"
     ]
    }
   ],
   "source": [
    "import numpy as np\n",
    "import numpy.linalg as la\n",
    "\n",
    "A = np.array([[1, 1],[1, -1]])\n",
    "b = np.array([3, 1])\n",
    "\n",
    "print (np.dot(la.inv(A), b))"
   ]
  },
  {
   "cell_type": "markdown",
   "metadata": {},
   "source": [
    "Finally, we can do linear least squares easily. Suppose we have these three equations, and two unknowns:\n",
    "\n",
    "$x + y = 3$,\n",
    "\n",
    "$x - y = 1$,\n",
    "\n",
    "$x - y = 0.9$"
   ]
  },
  {
   "cell_type": "code",
   "execution_count": 78,
   "metadata": {},
   "outputs": [
    {
     "name": "stdout",
     "output_type": "stream",
     "text": [
      "[1.975 1.025]\n"
     ]
    },
    {
     "name": "stderr",
     "output_type": "stream",
     "text": [
      "/opt/anaconda3/lib/python3.6/site-packages/ipykernel_launcher.py:9: FutureWarning: `rcond` parameter will change to the default of machine precision times ``max(M, N)`` where M and N are the input matrix dimensions.\n",
      "To use the future default and silence this warning we advise to pass `rcond=None`, to keep using the old, explicitly pass `rcond=-1`.\n",
      "  if __name__ == '__main__':\n"
     ]
    }
   ],
   "source": [
    "import numpy as np\n",
    "import numpy.linalg as la\n",
    "\n",
    "A = np.array([[1, 1],\n",
    "              [1, -1],\n",
    "              [1, -1]])\n",
    "b = np.array([3, 1, 0.9])\n",
    "\n",
    "[x, residuals, rank, s] = la.lstsq(A,b)\n",
    "print (x)"
   ]
  },
  {
   "cell_type": "markdown",
   "metadata": {},
   "source": [
    "### Polynomials\n",
    "**numpy** can do polynomials too. We express polynomials by the coefficients in front of the powers of $x$, e.g. $4 x^2 + 2x - 1 = 0$ is represented by [4, 2, -1]."
   ]
  },
  {
   "cell_type": "code",
   "execution_count": 79,
   "metadata": {},
   "outputs": [
    {
     "name": "stdout",
     "output_type": "stream",
     "text": [
      "[-0.80901699  0.30901699]\n"
     ]
    }
   ],
   "source": [
    "import numpy as np\n",
    "p = [4, 2, -1]\n",
    "print (np.roots(p))"
   ]
  },
  {
   "cell_type": "code",
   "execution_count": 80,
   "metadata": {},
   "outputs": [
    {
     "name": "stdout",
     "output_type": "stream",
     "text": [
      "[8 2]\n",
      "[ 1.33333333  1.         -1.          0.        ]\n"
     ]
    }
   ],
   "source": [
    "import numpy as np\n",
    "p = [4, 2, -1]\n",
    "print (np.polyder(p)) # coefficients of the derivative\n",
    "print (np.polyint(p))"
   ]
  },
  {
   "cell_type": "markdown",
   "metadata": {},
   "source": [
    "We can also readily evaluate polynomials at specific points:"
   ]
  },
  {
   "cell_type": "code",
   "execution_count": 81,
   "metadata": {},
   "outputs": [
    {
     "name": "stdout",
     "output_type": "stream",
     "text": [
      "[-1  5 19]\n"
     ]
    }
   ],
   "source": [
    "import numpy as np\n",
    "p = [4,2,-1]\n",
    "print (np.polyval(p,[0, 1, 2]))"
   ]
  },
  {
   "cell_type": "markdown",
   "metadata": {},
   "source": [
    "Polynomials are very convenient functions to fit to data. the **numpy.polyfit** command does this, and returns the coefficients."
   ]
  },
  {
   "cell_type": "code",
   "execution_count": 82,
   "metadata": {},
   "outputs": [
    {
     "name": "stdout",
     "output_type": "stream",
     "text": [
      "slope = 1.9999999999999998\n",
      "intercept = 1.000000000000005\n",
      "[2. 1.]\n"
     ]
    }
   ],
   "source": [
    "import numpy as np\n",
    "x = [0, 2, 3, 4]\n",
    "y = [1, 5, 7, 9]\n",
    "p = np.polyfit(x, y, 1)\n",
    "print ('slope = {0}\\nintercept = {1}'.format(*p))\n",
    "print (p)"
   ]
  },
  {
   "cell_type": "markdown",
   "metadata": {},
   "source": [
    "## Scientific Python (Scipy)\n",
    "http://docs.scipy.org/doc/scipy/reference/"
   ]
  },
  {
   "cell_type": "markdown",
   "metadata": {},
   "source": [
    "**scipy_ provides** all the functionality we need for [integration](http://docs.scipy.org/doc/scipy/reference/tutorial/integrate.html), [optimization](http://docs.scipy.org/doc/scipy/reference/tutorial/optimize.html), [interpolation](http://docs.scipy.org/doc/scipy/reference/tutorial/interpolate.html), [statistics](http://docs.scipy.org/doc/scipy/reference/tutorial/stats.html), and [File I/O](http://docs.scipy.org/doc/scipy/reference/tutorial/io.html). You should look up the link on integration. It might be useful for homework 2."
   ]
  },
  {
   "cell_type": "markdown",
   "metadata": {},
   "source": [
    "### Solving Equations"
   ]
  },
  {
   "cell_type": "markdown",
   "metadata": {},
   "source": [
    "Here is a typical usage for solving the equation $x^2 = 2$ for $x$. We have to define a function that is $f(x) = 0$, and then use the =scipy.optimize.fsolve= function to solve it with an initial guess."
   ]
  },
  {
   "cell_type": "code",
   "execution_count": 83,
   "metadata": {},
   "outputs": [
    {
     "name": "stdout",
     "output_type": "stream",
     "text": [
      "[1.41421356]\n",
      "<class 'numpy.ndarray'>\n"
     ]
    }
   ],
   "source": [
    "from scipy.optimize import fsolve\n",
    "\n",
    "def f(x):\n",
    "    y = 2 - x**2\n",
    "    return y\n",
    "\n",
    "x0 = 1.4 # Intitial Guess\n",
    "x = fsolve(f, x0)\n",
    "print (x)\n",
    "print (type(x))"
   ]
  },
  {
   "cell_type": "markdown",
   "metadata": {},
   "source": [
    "### Integration Example\n",
    "#### Using Quad"
   ]
  },
  {
   "cell_type": "code",
   "execution_count": 92,
   "metadata": {},
   "outputs": [
    {
     "name": "stdout",
     "output_type": "stream",
     "text": [
      "0.9922045225216546\n"
     ]
    }
   ],
   "source": [
    "from scipy.integrate import quad\n",
    "import numpy as np\n",
    "\n",
    "def integrand(x):\n",
    "    return (1 - np.cos(x))**2\n",
    "\n",
    "ans, err = quad(integrand, 0, 2)\n",
    "print (ans)"
   ]
  },
  {
   "cell_type": "markdown",
   "metadata": {},
   "source": [
    "#### Using trapz"
   ]
  },
  {
   "cell_type": "code",
   "execution_count": 97,
   "metadata": {},
   "outputs": [
    {
     "name": "stdout",
     "output_type": "stream",
     "text": [
      "4.000408121620243\n"
     ]
    }
   ],
   "source": [
    "import numpy as np\n",
    "\n",
    "# Array of 100 points between 0 and 2\n",
    "x2 = np.linspace(0, 2, 100)\n",
    "y2 = x2**3\n",
    "\n",
    "print (np.trapz(y2, x2))"
   ]
  },
  {
   "cell_type": "markdown",
   "metadata": {},
   "source": [
    "## Plotting with Python (Matplotlib)\n",
    "http://matplotlib.sourceforge.net/\n",
    "**matplotlib** is the prime plotting module for python. The syntax is similar to Matlab. The best way to learn matplotlib is to visit the gallery (http://matplotlib.sourceforge.net/gallery.html) and look for examples that do what you want. Here is a simple example."
   ]
  },
  {
   "cell_type": "code",
   "execution_count": 105,
   "metadata": {},
   "outputs": [
    {
     "data": {
      "image/png": "[encoded data removed]",
      "text/plain": [
       "<Figure size 432x288 with 1 Axes>"
      ]
     },
     "metadata": {
      "needs_background": "light"
     },
     "output_type": "display_data"
    }
   ],
   "source": [
    "import numpy as np\n",
    "import matplotlib.pyplot as plt\n",
    "\n",
    "x = np.linspace(0,2*np.pi,num=50)\n",
    "y = np.sin(x)\n",
    "\n",
    "plt.plot(x,y)\n",
    "plt.plot(x,np.cos(x))\n",
    "plt.xlabel('X axis')\n",
    "plt.ylabel('Y axis')\n",
    "plt.legend(['sin(x)', 'cos(x)'], loc='best')\n",
    "plt.savefig('images/Lab1.png')\n",
    "plt.show()"
   ]
  },
  {
   "cell_type": "markdown",
   "metadata": {},
   "source": [
    "# FDA\n",
    "  \n",
    "Now let us run our first computational chemistry code. Change into the\n",
    "~computational-chemistry/Lab1/FDA/fda~ directory and run the command,\n",
    "\n",
    "**./fda Ar**\n",
    "\n",
    "This will use the **Ar.inp** file as input and produce two output files, **Ar.dmp** and **Ar.out**. The **00READ.ME** file contains some information about the format of the input file. You can open these files with gedit or Emacs to read what they contain.\n",
    "\n",
    "## Parsing the dmp file\n",
    "\n",
    "In homework 2, you will need to parse the **.dmp** file to plot some data. It contains the radial grid values and total charge density in two columns, followed by the charge density of each oribital on the same grid. Here we consider an example of how to do this with python."
   ]
  },
  {
   "cell_type": "code",
   "execution_count": 113,
   "metadata": {},
   "outputs": [],
   "source": [
    "import matplotlib.pyplot as plt\n",
    "import numpy as np\n",
    "\n",
    "# Lets open the file in read mode\n",
    "with open('fda/Ar.dmp', 'r') as f:\n",
    "\n",
    "    # Reading all the lines in the file\n",
    "    # Each line is stored as an element of a list\n",
    "    lines = f.readlines()"
   ]
  },
  {
   "cell_type": "code",
   "execution_count": 114,
   "metadata": {},
   "outputs": [
    {
     "data": {
      "image/png": "[encoded data removed]",
      "text/plain": [
       "<Figure size 432x288 with 1 Axes>"
      ]
     },
     "metadata": {
      "needs_background": "light"
     },
     "output_type": "display_data"
    },
    {
     "data": {
      "image/png": "[encoded data removed]",
      "text/plain": [
       "<Figure size 432x288 with 1 Axes>"
      ]
     },
     "metadata": {
      "needs_background": "light"
     },
     "output_type": "display_data"
    }
   ],
   "source": [
    "# First we read the grid points and the total charge densities\n",
    "grid_points = []\n",
    "total_charge_densities = []\n",
    "\n",
    "for line in lines[3:303]:\n",
    "\n",
    "    # Each is a string with two columns\n",
    "    grid_point, tot_charge_density = line.split()\n",
    "\n",
    "    # We need to convert each line to a float add it to our lists\n",
    "    grid_points.append(float(grid_point))\n",
    "    total_charge_densities.append(float(tot_charge_density))\n",
    "\n",
    "# Now for the 1s orbital\n",
    "one_s_charge_density = []\n",
    "\n",
    "for x in lines[304:604]:\n",
    "    one_s_charge_density.append(float(x))\n",
    "\n",
    "# Alternately,\n",
    "one_s_charge_density_alt = [float(x) for x in lines[304:604]]\n",
    "\n",
    "plt.figure()\n",
    "plt.semilogx(grid_points, total_charge_densities)\n",
    "plt.xlabel('Grid Points')\n",
    "plt.ylabel('Charge Density')\n",
    "plt.title('Overall')\n",
    "# plt.savefig('images/Ar-overall-charge-density.png')\n",
    "\n",
    "plt.figure()\n",
    "plt.semilogx(grid_points, one_s_charge_density)\n",
    "plt.xlabel('Grid Points')\n",
    "plt.ylabel('Charge Density')\n",
    "plt.title('1s orbital')\n",
    "# plt.savefig('images/Ar-1s-charge-density.png')\n",
    "plt.show()"
   ]
  }
 ],
 "metadata": {
  "kernelspec": {
   "display_name": "Python 3",
   "language": "python",
   "name": "python3"
  },
  "language_info": {
   "codemirror_mode": {
    "name": "ipython",
    "version": 3
   },
   "file_extension": ".py",
   "mimetype": "text/x-python",
   "name": "python",
   "nbconvert_exporter": "python",
   "pygments_lexer": "ipython3",
   "version": "3.6.6"
  }
 },
 "nbformat": 4,
 "nbformat_minor": 2
}
